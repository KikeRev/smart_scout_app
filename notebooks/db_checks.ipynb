{
 "cells": [
  {
   "cell_type": "markdown",
   "id": "d4353d66-ae4c-4e8e-ae7b-17dc3e3a1173",
   "metadata": {},
   "source": [
    "## Imports"
   ]
  },
  {
   "cell_type": "code",
   "execution_count": null,
   "id": "d668f658-a3c1-4f43-acf9-1c1f114952c1",
   "metadata": {},
   "outputs": [],
   "source": [
    "import pandas as pd\n",
    "import re, unidecode, sqlalchemy as sa\n",
    "from sqlalchemy.orm import Session\n",
    "from sqlalchemy.dialects.postgresql import insert\n",
    "from tqdm.auto import tqdm\n",
    "from typing import Dict, List, Tuple, Any\n",
    "\n",
    "from apps.ingestion.seed_and_ingest import Player, FootballNews, Base, get_engine\n",
    "\n",
    "DB_URL = \"postgresql+psycopg2://scout:scout@db:5432/scouting\"\n",
    "engine = sa.create_engine(DB_URL)"
   ]
  },
  {
   "cell_type": "markdown",
   "id": "94ef2a4c-05ac-4f98-b312-60f11b4fe067",
   "metadata": {},
   "source": [
    "## Players Table"
   ]
  },
  {
   "cell_type": "code",
   "execution_count": null,
   "id": "35ff247a-240f-404a-9437-2a824d83347b",
   "metadata": {},
   "outputs": [],
   "source": [
    "# total de jugadores\n",
    "with engine.connect() as conn:\n",
    "    n_players = conn.scalar(sa.text(\"SELECT COUNT(*) FROM players\"))\n",
    "print(f\"Hay {n_players:,} jugadores\")"
   ]
  },
  {
   "cell_type": "code",
   "execution_count": null,
   "id": "7bbb89fe-e35e-4373-ab3a-c0dc650ee0ca",
   "metadata": {},
   "outputs": [],
   "source": [
    "df_players = pd.read_sql_table(\"players\", con=engine)"
   ]
  },
  {
   "cell_type": "code",
   "execution_count": null,
   "id": "d823bf3e-cbef-4bbb-82fa-78849b40d8c1",
   "metadata": {},
   "outputs": [],
   "source": [
    "df_players.head(50)"
   ]
  },
  {
   "cell_type": "code",
   "execution_count": null,
   "id": "b7b034ff-9e3b-46bc-8347-f9be365a1e67",
   "metadata": {},
   "outputs": [],
   "source": [
    "df_players[df_players[\"full_name\"].str.contains(\"Cardoso\")]"
   ]
  },
  {
   "cell_type": "code",
   "execution_count": null,
   "id": "ab46221a-2002-4fa6-ba50-91eb9682b80d",
   "metadata": {},
   "outputs": [],
   "source": [
    "df_players.columns"
   ]
  },
  {
   "cell_type": "code",
   "execution_count": null,
   "id": "7aa5de35-13ad-4fb6-8f53-cb116c09e1b9",
   "metadata": {},
   "outputs": [],
   "source": [
    "df_players.info()"
   ]
  },
  {
   "cell_type": "markdown",
   "id": "09fbc8cc-f657-4583-84ed-02c4726e7b6b",
   "metadata": {},
   "source": [
    "## Creating feature_vector Column"
   ]
  },
  {
   "cell_type": "code",
   "execution_count": null,
   "id": "0b081908-8887-4299-aafc-2c96a36f56bf",
   "metadata": {},
   "outputs": [],
   "source": [
    "from sqlalchemy import create_engine, text\n",
    "\n",
    "# 1️⃣  Conexión -------------------------------------------------\n",
    "engine = create_engine(\n",
    "    \"postgresql+psycopg2://scout:scout@db:5432/scouting\",\n",
    "    isolation_level=\"AUTOCOMMIT\",  # evita tener que hacer COMMIT explícito\n",
    ")\n",
    "\n",
    "# 2️⃣  Parámetros que necesitas saber de antemano --------------\n",
    "PLAYER_DIM = 43   # ← dimensión real de tu vector de jugador\n",
    "LISTS      = 140   # ← granularidad del índice IVFFLAT\n",
    "\n",
    "with engine.begin() as conn:\n",
    "    # 3️⃣  Activa la extensión pgvector (idempotente) -----------\n",
    "    conn.execute(text(\"CREATE EXTENSION IF NOT EXISTS vector;\"))\n",
    "\n",
    "    # 4️⃣  Añade la nueva columna vector(N) y migra los datos ---\n",
    "    conn.execute(text(f\"\"\"\n",
    "        ALTER TABLE players\n",
    "          ADD COLUMN IF NOT EXISTS feature_tmp vector({PLAYER_DIM});\n",
    "\n",
    "        UPDATE players\n",
    "          SET feature_tmp = feature_vector::vector\n",
    "          WHERE feature_tmp IS NULL;      -- evita tocar filas ya convertidas\n",
    "\n",
    "        ALTER TABLE players\n",
    "          DROP COLUMN IF EXISTS feature_vector;\n",
    "        ALTER TABLE players\n",
    "          RENAME COLUMN feature_tmp TO feature_vector;\n",
    "    \"\"\"))\n",
    "\n",
    "    # 5️⃣  Crea (o recrea) el índice IVFFLAT --------------------\n",
    "    conn.execute(text(f\"\"\"\n",
    "        CREATE INDEX IF NOT EXISTS players_feature_vec_idx\n",
    "        ON players USING ivfflat (feature_vector vector_cosine_ops)\n",
    "        WITH (lists = {LISTS});\n",
    "    \"\"\"))\n",
    "\n",
    "print(\"Migración a pgvector finalizada ✔️\")"
   ]
  },
  {
   "cell_type": "markdown",
   "id": "49612ce3-5d3e-49d9-b03b-287930e74f4e",
   "metadata": {},
   "source": [
    "### Populate feature_vector Column"
   ]
  },
  {
   "cell_type": "code",
   "execution_count": null,
   "id": "8d4031fd-6199-46e0-b351-f325289a4230",
   "metadata": {},
   "outputs": [],
   "source": [
    "FEATURE_COLS = [\n",
    "    \"minutes\", \"minutes_90s\",\n",
    "    \"goals\", \"assists\",\n",
    "    \"expected_goals\", \"expected_assists\",\n",
    "    \"no_penalty_expected_goals_plus_expected_assists\",\n",
    "    \"progressive_carries\", \"progressive_passes\", \"progressive_passes_received\",\n",
    "    \"goals_per90\", \"assists_per90\", \"goals_assists_per90\",\n",
    "    \"expected_goals_per90\", \"expected_assists_per90\", \"expected_goals_assists_per90\",\n",
    "    \"gk_goals_against\", \"gk_pens_allowed\", \"gk_free_kick_goals_against\",\n",
    "    \"gk_corner_kick_goals_against\", \"gk_own_goals_against\",\n",
    "    \"gk_psxg\", \"gk_psnpxg_per_shot_on_target_against\",\n",
    "    \"passes_completed\", \"passes\", \"passes_pct\",\n",
    "    \"passes_progressive_distance\", \"passes_completed_long\", \"passes_long\", \"passes_pct_long\",\n",
    "    \"tackles\", \"tackles_won\", \"challenge_tackles\", \"challenges\",\n",
    "    \"challenge_tackles_pct\", \"challenges_lost\",\n",
    "    \"blocks\", \"blocked_shots\", \"blocked_passes\",\n",
    "    \"interceptions\", \"tackles_interceptions\", \"clearances\", \"errors\"\n",
    "]\n",
    "\n",
    "df = pd.read_sql(\n",
    "    f\"SELECT id, {', '.join(FEATURE_COLS)} FROM players\",\n",
    "    engine\n",
    ")"
   ]
  },
  {
   "cell_type": "code",
   "execution_count": null,
   "id": "b2340d65-c24b-486c-a14f-bc5da18e3dfd",
   "metadata": {},
   "outputs": [],
   "source": [
    "df"
   ]
  },
  {
   "cell_type": "markdown",
   "id": "d3b4089f-b928-43d5-9b50-409a2010e11d",
   "metadata": {},
   "source": [
    "#### Standarization feature_vector values"
   ]
  },
  {
   "cell_type": "code",
   "execution_count": null,
   "id": "912b6214-d2bb-4d17-a1d4-e84c0be02d0a",
   "metadata": {},
   "outputs": [],
   "source": [
    "from sklearn.preprocessing import StandardScaler\n",
    "\n",
    "scaler = StandardScaler()\n",
    "emb_matrix = scaler.fit_transform(df[FEATURE_COLS]).astype(\"float32\")"
   ]
  },
  {
   "cell_type": "code",
   "execution_count": null,
   "id": "a5bb0723-79da-4896-8049-9dabf8df6533",
   "metadata": {},
   "outputs": [],
   "source": [
    "df[\"feature_vector\"] = [vec.tolist() for vec in emb_matrix]"
   ]
  },
  {
   "cell_type": "code",
   "execution_count": null,
   "id": "dae84982-3b98-4e2b-a97c-b204a5e902c7",
   "metadata": {},
   "outputs": [],
   "source": []
  },
  {
   "cell_type": "code",
   "execution_count": null,
   "id": "7f9a0154-fe86-4765-8cae-f5c033850ece",
   "metadata": {},
   "outputs": [],
   "source": [
    "df.info()"
   ]
  },
  {
   "cell_type": "code",
   "execution_count": null,
   "id": "1465e36e-32c8-4baa-8166-7f61bb462bd9",
   "metadata": {},
   "outputs": [],
   "source": [
    "from pgvector.sqlalchemy import Vector\n",
    "\n",
    "with engine.begin() as conn:\n",
    "    conn.execute(\n",
    "        text(\"\"\"\n",
    "            UPDATE players\n",
    "            SET feature_vector = :vec\n",
    "            WHERE id = :pid\n",
    "        \"\"\"),\n",
    "        [{\"pid\": pid, \"vec\": vec} for pid, vec in zip(df.id, df.feature_vector)]\n",
    "    )"
   ]
  },
  {
   "cell_type": "markdown",
   "id": "e7895f5f-03fb-443c-a855-a6633a38ffa4",
   "metadata": {},
   "source": [
    "#### Checks"
   ]
  },
  {
   "cell_type": "code",
   "execution_count": null,
   "id": "06bbc1eb-826d-40bd-aabd-08b98fac1e2e",
   "metadata": {},
   "outputs": [],
   "source": [
    "check = pd.read_sql(\n",
    "    \"SELECT vector_dims(feature_vector) AS dim, COUNT(*) FROM players GROUP BY dim;\",\n",
    "    engine\n",
    ")\n",
    "assert check[\"dim\"].iloc[0] == 43, \"Alguna fila no tiene dimensión 43\"\n",
    "print(check)"
   ]
  },
  {
   "cell_type": "code",
   "execution_count": null,
   "id": "36fd2c08-b8ff-48e7-a39a-977bbe26a297",
   "metadata": {},
   "outputs": [],
   "source": [
    "with engine.begin() as conn:\n",
    "    conn.execute(text(\"ANALYZE players;\"))\n",
    "    conn.execute(text(\"SET ivfflat.probes = 10;\")) "
   ]
  },
  {
   "cell_type": "code",
   "execution_count": null,
   "id": "0d777326-cb82-4628-b372-64754bff9803",
   "metadata": {},
   "outputs": [],
   "source": [
    "query = \"\"\"\n",
    "EXPLAIN (ANALYZE, BUFFERS)\n",
    "SELECT * FROM players\n",
    "ORDER BY feature_vector <=> (SELECT feature_vector FROM players WHERE id = 42)\n",
    "LIMIT 15;\n",
    "\"\"\""
   ]
  },
  {
   "cell_type": "code",
   "execution_count": null,
   "id": "ef6aecc6-a13b-4498-8698-571a8ab4da76",
   "metadata": {},
   "outputs": [],
   "source": [
    "with engine.begin() as conn:\n",
    "    conn.execute(text(query))"
   ]
  },
  {
   "cell_type": "code",
   "execution_count": null,
   "id": "71009803-90ef-416d-a6eb-bb73e11f7407",
   "metadata": {},
   "outputs": [],
   "source": [
    "df_plan = pd.read_sql(query, engine)\n",
    "display(df_plan)"
   ]
  },
  {
   "cell_type": "code",
   "execution_count": null,
   "id": "b2b85c21-a56f-4b61-8776-be431d8b4945",
   "metadata": {},
   "outputs": [],
   "source": [
    "df"
   ]
  },
  {
   "cell_type": "markdown",
   "id": "f0eaad6a-7443-4cd7-bf90-b7f61365f25a",
   "metadata": {},
   "source": [
    "## Football news Table validations "
   ]
  },
  {
   "cell_type": "code",
   "execution_count": null,
   "id": "763c3c3e-0227-443f-9b52-35a0bcbb70de",
   "metadata": {},
   "outputs": [],
   "source": [
    "# primeras 5 noticias\n",
    "query = \"\"\"\n",
    "SELECT *\n",
    "FROM football_news\n",
    "ORDER BY published_at DESC\n",
    "LIMIT 5\n",
    "\"\"\"\n",
    "df = pd.read_sql(query, con=engine)\n",
    "df"
   ]
  },
  {
   "cell_type": "code",
   "execution_count": null,
   "id": "6d449a2d-0536-460a-a002-90f1a3b063e2",
   "metadata": {},
   "outputs": [],
   "source": [
    "df.summary[4]"
   ]
  },
  {
   "cell_type": "markdown",
   "id": "2d3538de-5246-490d-a989-a147318f4c1d",
   "metadata": {},
   "source": [
    "## Player Id - News ID table creation"
   ]
  },
  {
   "cell_type": "code",
   "execution_count": null,
   "id": "603378bb-de29-4760-80e2-251b1a1fa11e",
   "metadata": {},
   "outputs": [],
   "source": [
    "df.columns"
   ]
  },
  {
   "cell_type": "code",
   "execution_count": null,
   "id": "b3457600-fb8c-419e-846c-57453bb5c9d9",
   "metadata": {},
   "outputs": [],
   "source": []
  },
  {
   "cell_type": "code",
   "execution_count": null,
   "id": "cf0f2cd2-89b0-4f31-8e03-5bd033c3105a",
   "metadata": {},
   "outputs": [],
   "source": [
    "from sqlalchemy import create_engine, text\n",
    "\n",
    "# 1️⃣  Conexión -------------------------------------------------\n",
    "engine = create_engine(\n",
    "    \"postgresql+psycopg2://scout:scout@db:5432/scouting\",\n",
    "    isolation_level=\"AUTOCOMMIT\",  # evita tener que hacer COMMIT explícito\n",
    ")"
   ]
  },
  {
   "cell_type": "code",
   "execution_count": null,
   "id": "e186a901-c359-4291-bf3c-050563b46829",
   "metadata": {},
   "outputs": [],
   "source": [
    "query = \"\"\"\n",
    "CREATE TABLE IF NOT EXISTS player_news (\n",
    "  player_id  INTEGER NOT NULL REFERENCES players(id) ON DELETE CASCADE,\n",
    "  news_id    INTEGER NOT NULL REFERENCES football_news(id) ON DELETE CASCADE,\n",
    "  PRIMARY KEY (player_id, news_id)\n",
    ");\n",
    "\"\"\"\n",
    "\n",
    "query2 = \"\"\"\n",
    "CREATE INDEX IF NOT EXISTS player_news_player_idx\n",
    "ON player_news(player_id);\n",
    "\"\"\""
   ]
  },
  {
   "cell_type": "code",
   "execution_count": null,
   "id": "7d8294ad-8782-444d-ac0e-f4c7adfe7e77",
   "metadata": {},
   "outputs": [],
   "source": [
    "with engine.begin() as conn:\n",
    "    conn.execute(text(query))\n",
    "\n",
    "    conn.execute(text(query2))\n",
    "\n",
    "print(\"Tabla Creada finalizada ✔️\")"
   ]
  },
  {
   "cell_type": "code",
   "execution_count": null,
   "id": "5e9086c8-643f-414e-afd1-641bb2eccea7",
   "metadata": {
    "scrolled": true
   },
   "outputs": [],
   "source": [
    "player_news = sa.Table(\n",
    "    \"player_news\", Base.metadata,\n",
    "    sa.Column(\"player_id\", sa.Integer, primary_key=True),\n",
    "    sa.Column(\"news_id\",   sa.Integer, primary_key=True),\n",
    "    extend_existing=True\n",
    ")"
   ]
  },
  {
   "cell_type": "code",
   "execution_count": null,
   "id": "7159e506-e161-429b-8e85-65802852330b",
   "metadata": {},
   "outputs": [],
   "source": [
    "def normalize(text: str) -> str:\n",
    "    \"\"\"minúsculas y sin tildes/acentos para comparar.\"\"\"\n",
    "    return unidecode.unidecode(text).lower().strip()\n",
    "\n",
    "with Session(engine) as sess:\n",
    "    # ── 1. Diccionario {nombre normalizado: id} ────────────────────────\n",
    "    players = sess.query(Player.id, Player.full_name).all()\n",
    "    name_to_id = {normalize(p.full_name): p.id for p in players}\n",
    "\n",
    "    # regex con todos los nombres (palabra completa)\n",
    "    pattern = r\"\\b(\" + \"|\".join(re.escape(n) for n in name_to_id) + r\")\\b\"\n",
    "    name_re = re.compile(pattern, re.I)\n",
    "\n",
    "    # ── 2. Iteramos con barra de progreso sobre las noticias ───────────\n",
    "    news_rows = sess.query(FootballNews).all()\n",
    "    inserted = 0\n",
    "\n",
    "    for news in tqdm(news_rows, desc=\"Vinculando noticias\", unit=\"noticia\"):\n",
    "        # nombres encontrados en el artículo\n",
    "        matches = {normalize(m.group(0)) for m in name_re.finditer(news.article_text)}\n",
    "\n",
    "        for norm_name in matches:\n",
    "            player_id = name_to_id.get(norm_name)\n",
    "            if not player_id:\n",
    "                continue  # nombre no está en la tabla players\n",
    "\n",
    "            stmt = (\n",
    "                insert(player_news)\n",
    "                .values(player_id=player_id, news_id=news.id)\n",
    "                .on_conflict_do_nothing()\n",
    "            )\n",
    "            sess.execute(stmt)\n",
    "            inserted += 1\n",
    "\n",
    "    sess.commit()\n",
    "\n",
    "print(f\"🔗 player_news enlazados: {inserted}\")\n"
   ]
  },
  {
   "cell_type": "code",
   "execution_count": null,
   "id": "c0220da3-6e45-4ba7-ac79-9c9e9522fad9",
   "metadata": {},
   "outputs": [],
   "source": [
    "# Conteo global\n",
    "with engine.connect() as conn:\n",
    "    n_players_news = conn.scalar(sa.text(\"SELECT COUNT(*) FROM player_news\"))"
   ]
  },
  {
   "cell_type": "code",
   "execution_count": null,
   "id": "0a76cec3-87fc-498c-b415-e1924eb63d09",
   "metadata": {},
   "outputs": [],
   "source": [
    "print(f\"Hay {n_players_news:,} jugadores con noticas asociadas\")"
   ]
  },
  {
   "cell_type": "code",
   "execution_count": null,
   "id": "a349a325-b9a0-4f6b-ac78-acb55386ae22",
   "metadata": {},
   "outputs": [],
   "source": [
    "# Top-10 jugadores con más artículos\n",
    "top = pd.read_sql(\"\"\"\n",
    "    SELECT p.full_name, COUNT(*) AS n_news\n",
    "    FROM player_news pn\n",
    "    JOIN players p ON p.id = pn.player_id\n",
    "    GROUP BY p.full_name\n",
    "    ORDER BY n_news DESC\n",
    "    LIMIT 10\n",
    "\"\"\", engine)\n",
    "display(top)\n",
    "\n",
    "# Últimas 5 noticias para Rodri\n",
    "rodri_news = pd.read_sql(\"\"\"\n",
    "    SELECT n.title, n.summary, n.published_at\n",
    "    FROM player_news pn\n",
    "    JOIN football_news n ON n.id = pn.news_id\n",
    "    WHERE pn.player_id = 842\n",
    "    ORDER BY n.published_at DESC\n",
    "    LIMIT 5\n",
    "\"\"\", engine)\n",
    "display(rodri_news)"
   ]
  },
  {
   "cell_type": "markdown",
   "id": "10e53166-7311-41c6-b7a1-1bdc546f483a",
   "metadata": {},
   "source": [
    "## Testing Radar and pizza charts"
   ]
  },
  {
   "cell_type": "code",
   "execution_count": null,
   "id": "cb5553e7-c0b2-49bd-807f-b760c449320f",
   "metadata": {},
   "outputs": [],
   "source": [
    "from mplsoccer import PyPizza, Radar, FontManager, grid\n",
    "import numpy as np"
   ]
  },
  {
   "cell_type": "code",
   "execution_count": null,
   "id": "ac43ef31-d05f-4474-837b-f947312f4b9e",
   "metadata": {},
   "outputs": [],
   "source": [
    "URL1 = ('https://raw.githubusercontent.com/googlefonts/SourceSerifProGFVersion/main/fonts/'\n",
    "        'SourceSerifPro-Regular.ttf')\n",
    "serif_regular = FontManager(URL1)\n",
    "URL2 = ('https://raw.githubusercontent.com/googlefonts/SourceSerifProGFVersion/main/fonts/'\n",
    "        'SourceSerifPro-ExtraLight.ttf')\n",
    "serif_extra_light = FontManager(URL2)\n",
    "URL3 = ('https://raw.githubusercontent.com/google/fonts/main/ofl/rubikmonoone/'\n",
    "        'RubikMonoOne-Regular.ttf')\n",
    "rubik_regular = FontManager(URL3)\n",
    "URL4 = 'https://raw.githubusercontent.com/googlefonts/roboto/main/src/hinted/Roboto-Thin.ttf'\n",
    "robotto_thin = FontManager(URL4)\n",
    "URL5 = ('https://raw.githubusercontent.com/google/fonts/main/apache/robotoslab/'\n",
    "        'RobotoSlab%5Bwght%5D.ttf')\n",
    "robotto_bold = FontManager(URL5)"
   ]
  },
  {
   "cell_type": "code",
   "execution_count": null,
   "id": "5397e43f-ae2b-44e9-b677-195cc563f855",
   "metadata": {},
   "outputs": [],
   "source": [
    "row = df_players.loc[df_players[\"full_name\"] == \"Federico Valverde\"].iloc[0]  # ejemplo"
   ]
  },
  {
   "cell_type": "code",
   "execution_count": null,
   "id": "5c380b21-e41a-4fa4-97a4-f0bdcc34bd54",
   "metadata": {
    "scrolled": true
   },
   "outputs": [],
   "source": [
    "row"
   ]
  },
  {
   "cell_type": "code",
   "execution_count": null,
   "id": "49bd21a5-cf98-40ba-8a33-cc7a7aef60eb",
   "metadata": {},
   "outputs": [],
   "source": [
    "# ────────────────────────────────────────────────────────────────────────────\n",
    "# Colour palette (light tones)\n",
    "# ────────────────────────────────────────────────────────────────────────────\n",
    "ATT_CLR = \"#8ED18E\"   # light green  – attacking\n",
    "POS_CLR = \"#9CCAF9\"   # light blue   – possession\n",
    "DEF_CLR = \"#F9B97C\"   # light orange – defending\n",
    "COLORS = {\"att\": ATT_CLR, \"pos\": POS_CLR, \"def\": DEF_CLR}\n",
    "TEXT_CLR = \"#000000\"\n",
    "\n",
    "# ────────────────────────────────────────────────────────────────────────────\n",
    "# Metric definitions\n",
    "# ────────────────────────────────────────────────────────────────────────────\n",
    "RADAR_METRICS: List[Tuple[str, str, Any | None]] = [\n",
    "    (\"Edad\", \"age\", 45),\n",
    "    (\"Min/juego\", None, 100),          # minutes ÷ 90s\n",
    "    (\"Partidos_90s\", \"minutes_90s\", 50),\n",
    "    (\"Goles\", \"goals\", 50),\n",
    "    (\"Asist\", \"assists\", 20),\n",
    "    (\"G+A\", None, 50),\n",
    "]\n",
    "\n",
    "# label, df‑column, category\n",
    "ROLE_METRICS = {\n",
    "    'GK': [\n",
    "          ['PSxG_ev', 'gk_psxg', 'def', 73.5],\n",
    "          ['GA', 'gk_goals_against', 'def', 77.0],\n",
    "          ['Pens', 'gk_pens_allowed', 'def', 13.0],\n",
    "          ['GA_FK', 'gk_free_kick_goals_against', 'def', 3.0],\n",
    "          ['GA_CK', 'gk_corner_kick_goals_against', 'def', 11.0],\n",
    "          ['OwnGA', 'gk_own_goals_against', 'def', 5.0],\n",
    "          ['ProgDist', 'passes_progressive_distance', 'pos', 28154.0],\n",
    "          ['%Pass', 'passes_pct', 'pos', 100.0],\n",
    "          ['LongCmp', 'passes_completed_long', 'pos', 462.0]\n",
    "    ],\n",
    "     'DF': [\n",
    "          ['Interc', 'interceptions', 'def', 72.0],\n",
    "          ['Tackles', 'tackles', 'def', 151.0],\n",
    "          ['Tk_Won', 'tackles_won', 'def', 99.0],\n",
    "          ['BlkShot', 'blocked_shots', 'def', 57.0],\n",
    "          ['Clear', 'clearances', 'def', 352.0],\n",
    "          ['Duel%', 'challenge_tackles_pct', 'def', 100.0],\n",
    "          ['ProgDist', 'passes_progressive_distance', 'pos', 28154.0],\n",
    "          ['%Pass', 'passes_pct', 'pos', 100.0],\n",
    "          ['LongCmp', 'passes_completed_long', 'pos', 462.0]\n",
    "     ],\n",
    "     'MF': [\n",
    "          ['xA/90', 'expected_assists_per90', 'att', 2.0],\n",
    "          ['G+A/90', 'goals_assists_per90', 'att', 3.0],\n",
    "          ['xG/90', 'expected_goals_per90', 'att', 1.5],\n",
    "          ['ProgCarr', 'progressive_carries', 'pos', 213.0],\n",
    "          ['ProgDist', 'passes_progressive_distance', 'pos', 28154.0],\n",
    "          ['%Pass', 'passes_pct', 'pos', 100.0],\n",
    "          ['Interc', 'interceptions', 'def', 72.0],\n",
    "          ['Tk+Int', 'tackles_interceptions', 'def', 207.0],\n",
    "          ['Blocks', 'blocks', 'def', 77.0]\n",
    "     ],\n",
    "     'FW': [\n",
    "          ['G/90', 'goals_per90', 'att', 1.5],\n",
    "          ['xG/90', 'expected_goals_per90', 'att', 1.5],\n",
    "          ['A/90', 'assists_per90', 'att', 2.0],\n",
    "          ['G+A/90', 'goals_assists_per90', 'att', 3.0],\n",
    "          ['xGA/90', 'expected_goals_assists_per90', 'att', 3.0],\n",
    "          ['ProgRec', 'progressive_passes_received', 'pos', 488.0],\n",
    "          ['ProgPass', 'progressive_passes', 'pos', 440.0],\n",
    "          ['ProgCarr', 'progressive_carries', 'pos', 213.0],\n",
    "          ['%Pass', 'passes_pct', 'pos', 100.0]\n",
    "    ]\n",
    "}\n",
    "\n",
    "INVERSE = {\n",
    "    \"gk_goals_against\", \"gk_free_kick_goals_against\",\n",
    "    \"gk_corner_kick_goals_against\", \"gk_own_goals_against\",\n",
    "}"
   ]
  },
  {
   "cell_type": "code",
   "execution_count": null,
   "id": "e56a05d9-45b1-4405-a4d5-a73b314695ac",
   "metadata": {},
   "outputs": [],
   "source": [
    "stats = row.to_dict()"
   ]
  },
  {
   "cell_type": "markdown",
   "id": "f146dcae-de90-49a2-8e4e-754443fd2e93",
   "metadata": {},
   "source": [
    "### Radar Chart"
   ]
  },
  {
   "cell_type": "code",
   "execution_count": null,
   "id": "4d1d39c2-7327-4b23-87c8-3176f459a8af",
   "metadata": {
    "scrolled": true
   },
   "outputs": [],
   "source": [
    "labels, vals, max_vals = [], [], []\n",
    "for label, col, max_val in RADAR_METRICS:\n",
    "    if col is None and label == \"G+A\":\n",
    "        v = stats.get(\"goals\", 0) + stats.get(\"assists\", 0)\n",
    "    elif col is None:  # minutes per game\n",
    "        games = stats.get(\"minutes_90s\", 1) or 1\n",
    "        v = stats.get(\"minutes\", 0) / games\n",
    "    else:\n",
    "        v = stats.get(col, 0)\n",
    "    labels.append(label)\n",
    "    vals.append(float(v))\n",
    "    max_vals.append(max_val)\n",
    "\n",
    "vals_arr = np.array(vals, dtype=float)\n",
    "low = np.zeros_like(vals_arr)\n",
    "high = max_vals\n",
    "\n",
    "params = [s[0] for s in RADAR_METRICS]\n",
    "\n",
    "lower_is_better = ['Miscontrol']\n",
    "\n",
    "radar = Radar(params, low, high,\n",
    "              lower_is_better=lower_is_better,\n",
    "              round_int=[False]*len(params),\n",
    "              num_rings=5, \n",
    "              ring_width=1, center_circle_radius=1)\n",
    "\n",
    "# creating the figure using the grid function from mplsoccer:\n",
    "fig, axs = grid(figheight=14, grid_height=0.915, title_height=0.06, endnote_height=0.025,\n",
    "                title_space=0, endnote_space=0, grid_key='radar', axis=False)\n",
    "\n",
    "# plot the radar\n",
    "radar.setup_axis(ax=axs['radar'])\n",
    "rings_inner = radar.draw_circles(ax=axs['radar'], facecolor='#ffb2b2', edgecolor='#fc5f5f')\n",
    "radar_output = radar.draw_radar(vals_arr, ax=axs['radar'],\n",
    "                                kwargs_radar={'facecolor': '#aa65b2'},\n",
    "                                kwargs_rings={'facecolor': '#66d8ba'})\n",
    "radar_poly, rings_outer, vertices = radar_output\n",
    "range_labels = radar.draw_range_labels(ax=axs['radar'], fontsize=25,\n",
    "                                       fontproperties=robotto_thin.prop)\n",
    "param_labels = radar.draw_param_labels(ax=axs['radar'], fontsize=25,\n",
    "                                       fontproperties=robotto_thin.prop)\n",
    "endnote_text = axs['endnote'].text(0.99, 1.4, 'Inspired By: StatsBomb / Rami Moghadam', fontsize=15,\n",
    "                                   fontproperties=robotto_thin.prop, ha='right', va='center')\n",
    "endnote_text2 = axs['endnote'].text(0.99, 0.7, 'Created by: Enrique Revuelta', fontsize=15,\n",
    "                                   fontproperties=robotto_thin.prop, ha='right', va='center')\n",
    "endnote_text2 = axs['endnote'].text(0.99, 0.0, 'Data Source: FBref.com', fontsize=15,\n",
    "                                   fontproperties=robotto_thin.prop, ha='right', va='center')\n",
    "title1_text = axs['title'].text(0.01, 0.65, row[\"full_name\"], fontsize=25,\n",
    "                                fontproperties=robotto_bold.prop, ha='left', va='center')\n",
    "title2_text = axs['title'].text(0.01, 0.25, row[\"nationality\"], fontsize=20,\n",
    "                                fontproperties=robotto_thin.prop,\n",
    "                                ha='left', va='center', color='#B6282F')\n",
    "title3_text = axs['title'].text(0.99, 0.65, row[\"club\"], fontsize=25,\n",
    "                                fontproperties=robotto_bold.prop, ha='right', va='center')\n",
    "title4_text = axs['title'].text(0.99, 0.25, row[\"position\"], fontsize=20,\n",
    "                                fontproperties=robotto_thin.prop,\n",
    "                                ha='right', va='center', color='#B6282F')"
   ]
  },
  {
   "cell_type": "markdown",
   "id": "6c4ca5f7-f2e0-4c0f-b3a6-cc44db3bf015",
   "metadata": {},
   "source": [
    "### Pizza Chart"
   ]
  },
  {
   "cell_type": "code",
   "execution_count": null,
   "id": "66799032-3da5-4c20-b8ca-1ca2fb64c381",
   "metadata": {},
   "outputs": [],
   "source": [
    "import matplotlib.pyplot as plt"
   ]
  },
  {
   "cell_type": "code",
   "execution_count": null,
   "id": "ecba8441-7ec6-40ef-9aa8-8f37a940785f",
   "metadata": {},
   "outputs": [],
   "source": [
    "font_normal = FontManager('https://raw.githubusercontent.com/googlefonts/roboto/main/'\n",
    "                          'src/hinted/Roboto-Regular.ttf')\n",
    "font_italic = FontManager('https://raw.githubusercontent.com/googlefonts/roboto/main/'\n",
    "                          'src/hinted/Roboto-Italic.ttf')\n",
    "font_bold = FontManager('https://raw.githubusercontent.com/google/fonts/main/apache/robotoslab/'\n",
    "                        'RobotoSlab[wght].ttf')"
   ]
  },
  {
   "cell_type": "code",
   "execution_count": null,
   "id": "28f2afd1-c571-4cbe-93fb-313a8fbf2d94",
   "metadata": {},
   "outputs": [],
   "source": [
    "role = row[\"position\"]\n",
    "\n",
    "params, values, cats, max_vals = [], [], [], []\n",
    "for lbl, col, cat, max_val in ROLE_METRICS[role]:\n",
    "    val = float(stats.get(col, 0.0))\n",
    "    if col in INVERSE:          # invertir métricas donde menos es mejor\n",
    "        val = -val\n",
    "    params.append(lbl)\n",
    "    values.append(val)\n",
    "    cats.append(cat)\n",
    "    max_vals.append(max_val)\n",
    "\n",
    "slice_colors = [COLORS[c] for c in cats]\n",
    "text_colors = [\"#000000\"] * len(cats)\n",
    "min_vals = [0.0] * len(max_vals)"
   ]
  },
  {
   "cell_type": "code",
   "execution_count": null,
   "id": "19cfe301-bbc3-4609-b709-357ec217757f",
   "metadata": {},
   "outputs": [],
   "source": [
    "player = row[\"full_name\"]\n",
    "team = row[\"club\"]"
   ]
  },
  {
   "cell_type": "code",
   "execution_count": null,
   "id": "dfdf0de1-96ce-406d-b7f0-3bc04fcec370",
   "metadata": {
    "scrolled": true
   },
   "outputs": [],
   "source": [
    "# instantiate PyPizza class\n",
    "baker = PyPizza(\n",
    "    params=params,                  # list of parameters\n",
    "    min_range=min_vals,        # min range values\n",
    "    max_range=max_vals,        # max range values\n",
    "    background_color=\"#EBEBE9\",     # background color\n",
    "    straight_line_color=\"#EBEBE9\",  # color for straight lines\n",
    "    straight_line_lw=1,             # linewidth for straight lines\n",
    "    last_circle_lw=0,               # linewidth of last circle\n",
    "    other_circle_lw=0,              # linewidth for other circles\n",
    "    inner_circle_size=20            # size of inner circle\n",
    ")\n",
    "\n",
    "# plot pizza\n",
    "fig, ax = baker.make_pizza(\n",
    "    values,                          # list of values\n",
    "    figsize=(8, 8.5),                # adjust figsize according to your need\n",
    "    color_blank_space=\"same\",        # use same color to fill blank space\n",
    "    slice_colors=slice_colors,       # color for individual slices\n",
    "    value_colors=text_colors,        # color for the value-text\n",
    "    value_bck_colors=slice_colors,   # color for the blank spaces\n",
    "    blank_alpha=0.4,                 # alpha for blank-space colors\n",
    "    kwargs_slices=dict(\n",
    "        edgecolor=\"#F2F2F2\", zorder=2, linewidth=1\n",
    "    ),                               # values to be used when plotting slices\n",
    "    kwargs_params=dict(\n",
    "        color=\"#000000\", fontsize=11,\n",
    "        fontproperties=font_normal.prop, va=\"center\"\n",
    "    ),                               # values to be used when adding parameter\n",
    "    kwargs_values=dict(\n",
    "        color=\"#000000\", fontsize=11,\n",
    "        fontproperties=font_normal.prop, zorder=3,\n",
    "        bbox=dict(\n",
    "            edgecolor=\"#000000\", facecolor=\"cornflowerblue\",\n",
    "            boxstyle=\"round,pad=0.2\", lw=1\n",
    "        )\n",
    "    )                                # values to be used when adding parameter-values\n",
    ")\n",
    "\n",
    "# add title\n",
    "fig.text(\n",
    "    0.515, 0.975, f\"{player} - {team}\", size=16,\n",
    "    ha=\"center\", fontproperties=font_bold.prop, color=\"#000000\"\n",
    ")\n",
    "\n",
    "# add credits\n",
    "CREDIT_1 = \"Data Source: fbref\"\n",
    "CREDIT_2 = \"Inspired by: @Worville, @FootballSlices, @somazerofc & @Soumyaj15209314\"\n",
    "CREDIT_3 = \"Created by: Enrique Revuelta\"\n",
    "\n",
    "fig.text(\n",
    "    0.99, 0.02, f\"{CREDIT_3}\\n{CREDIT_1}\\n{CREDIT_2}\", size=9,\n",
    "    fontproperties=font_italic.prop, color=\"#000000\",\n",
    "    ha=\"right\"\n",
    ")"
   ]
  },
  {
   "cell_type": "code",
   "execution_count": null,
   "id": "8b2fa15b-2e43-45b3-81fb-ed72814f629e",
   "metadata": {
    "scrolled": true
   },
   "outputs": [],
   "source": [
    "fig"
   ]
  },
  {
   "cell_type": "code",
   "execution_count": null,
   "id": "d5680669-1795-4880-97f4-ddb781377bd2",
   "metadata": {},
   "outputs": [],
   "source": [
    "import importlib, apps.agent_service.viz_tools as vt\n",
    "importlib.reload(vt)"
   ]
  },
  {
   "cell_type": "code",
   "execution_count": null,
   "id": "d216e824-aff6-41fe-a27f-6237888b259e",
   "metadata": {
    "scrolled": true
   },
   "outputs": [],
   "source": [
    "row"
   ]
  },
  {
   "cell_type": "code",
   "execution_count": null,
   "id": "471096d5-6ef2-443f-b695-acb1d1eb6e6b",
   "metadata": {
    "scrolled": true
   },
   "outputs": [],
   "source": [
    "png = vt.pizza_chart.invoke({\n",
    "    \"role\": row[\"position\"],\n",
    "    \"stats\": row.to_dict(),\n",
    "    \"player_name\": row[\"full_name\"],\n",
    "    \"team\": row[\"club\"],\n",
    "})\n",
    "display(Image(png))"
   ]
  },
  {
   "cell_type": "code",
   "execution_count": null,
   "id": "7919e897-0b3b-4738-9800-428bc204eeb7",
   "metadata": {
    "scrolled": true
   },
   "outputs": [],
   "source": [
    "path = vt.radar_chart.invoke({\n",
    "    \"stats\": row.to_dict(),\n",
    "    \"player_name\": row[\"full_name\"],\n",
    "    \"team\": row[\"club\"],\n",
    "    \"position\": row[\"position\"],\n",
    "    \"nationality\": row[\"nationality\"]\n",
    "})\n",
    "display(Image(path))"
   ]
  },
  {
   "cell_type": "markdown",
   "id": "5f8e9715-5033-4b79-a3f3-df38696ef9f8",
   "metadata": {},
   "source": [
    "## Downloading fonts"
   ]
  },
  {
   "cell_type": "code",
   "execution_count": null,
   "id": "0cd0d921-6b9c-4ce4-be09-bb95b3a4c40f",
   "metadata": {},
   "outputs": [],
   "source": [
    "from pathlib import Path\n",
    "import urllib.request as urlreq\n",
    "\n",
    "# 1⃣  Carpeta destino dentro del repositorio\n",
    "FONTS_DIR = Path(\"../apps/agent_service/fonts\")\n",
    "FONTS_DIR.mkdir(parents=True, exist_ok=True)\n",
    "\n",
    "# 2⃣  URL de cada peso + nombre local\n",
    "FONTS = {\n",
    "    \"serif_regular.ttf\"     : \"https://raw.githubusercontent.com/googlefonts/SourceSerifProGFVersion/main/fonts/SourceSerifPro-Regular.ttf\",\n",
    "    \"serif_extra_light.ttf\" : \"https://raw.githubusercontent.com/googlefonts/SourceSerifProGFVersion/main/fonts/SourceSerifPro-ExtraLight.ttf\",\n",
    "    \"rubik_regular.ttf\"     : \"https://raw.githubusercontent.com/google/fonts/main/ofl/rubikmonoone/RubikMonoOne-Regular.ttf\",\n",
    "    \"robotto_thin.ttf\"      : \"https://raw.githubusercontent.com/googlefonts/roboto/main/src/hinted/Roboto-Thin.ttf\",\n",
    "    \"robotto_bold.ttf\"      : \"https://raw.githubusercontent.com/google/fonts/main/apache/robotoslab/RobotoSlab%5Bwght%5D.ttf\",\n",
    "    \"RobotoSlab-Bold.ttf\"   : \"https://raw.githubusercontent.com/googlefonts/roboto/main/src/hinted/Roboto-Regular.ttf\",\n",
    "    \"RobotoSlab-Regular.ttf\": \"https://raw.githubusercontent.com/googlefonts/roboto/main/src/hinted/Roboto-Italic.ttf\",\n",
    "    \"RobotoSlab-Italic.ttf\" : \"https://raw.githubusercontent.com/google/fonts/main/apache/robotoslab/RobotoSlab[wght].ttf\",\n",
    "}\n",
    "\n",
    "for fname, url in FONTS.items():\n",
    "    try:\n",
    "        dest = FONTS_DIR / fname\n",
    "        if not dest.exists():                       # descarga solo si no lo tienes\n",
    "            print(f\"→ Descargando {fname}…\")\n",
    "            urlreq.urlretrieve(url, dest)\n",
    "        else:\n",
    "            print(f\"✓ {fname} ya está en disco\")\n",
    "    except:\n",
    "        print(f\"Fallo al descargar {fname}\")\n",
    "\n",
    "print(\"¡Fuentes listas!\")"
   ]
  },
  {
   "cell_type": "markdown",
   "id": "3219aa0b-62ed-407d-9d03-5e2cf3cd3fe4",
   "metadata": {},
   "source": [
    "## Creating comparison charts (Radar & Pizza)"
   ]
  },
  {
   "cell_type": "markdown",
   "id": "75640c81-5114-49cc-9a91-315611748071",
   "metadata": {},
   "source": [
    "### Radar comparison chart"
   ]
  },
  {
   "cell_type": "code",
   "execution_count": null,
   "id": "a61ed405-9d83-41e6-a75e-d7b3a0189684",
   "metadata": {},
   "outputs": [],
   "source": [
    "df_players[:1]"
   ]
  },
  {
   "cell_type": "code",
   "execution_count": null,
   "id": "ba1a8119-0df5-4e5a-916a-9bde56c28042",
   "metadata": {},
   "outputs": [],
   "source": [
    "row  = df_players.loc[df_players[\"full_name\"] == \"Federico Valverde\"].iloc[0]\n",
    "row2 = df_players.loc[df_players[\"full_name\"] == \"Pedri\"].iloc[0]"
   ]
  },
  {
   "cell_type": "code",
   "execution_count": null,
   "id": "4838a656-b354-4298-b77d-f3bb0996dc88",
   "metadata": {
    "scrolled": true
   },
   "outputs": [],
   "source": [
    "stats = row.to_dict()\n",
    "stats2 = row2.to_dict()"
   ]
  },
  {
   "cell_type": "code",
   "execution_count": null,
   "id": "59173ca4-4067-445a-ad57-a68b20caa758",
   "metadata": {},
   "outputs": [],
   "source": [
    "labels, vals, vals2, max_vals = [], [], [], []\n",
    "for label, col, max_val in RADAR_METRICS:\n",
    "    if col is None and label == \"G+A\":\n",
    "        v = stats.get(\"goals\", 0) + stats.get(\"assists\", 0)\n",
    "        v2 = stats2.get(\"goals\", 0) + stats2.get(\"assists\", 0)\n",
    "    elif col is None:  # minutes per game\n",
    "        games = stats.get(\"minutes_90s\", 1) or 1\n",
    "        games2 = stats2.get(\"minutes_90s\", 1) or 1\n",
    "        v = stats.get(\"minutes\", 0) / games\n",
    "        v2 = stats2.get(\"minutes\", 0) / games2\n",
    "    else:\n",
    "        v = stats.get(col, 0)\n",
    "        v2 = stats2.get(col, 0)\n",
    "    labels.append(label)\n",
    "    vals.append(float(v))\n",
    "    vals2.append(float(v2))\n",
    "    max_vals.append(max_val)\n",
    "\n",
    "vals_arr = np.array(vals, dtype=float)\n",
    "vals_arr2 = np.array(vals2, dtype=float)\n",
    "low = np.zeros_like(vals_arr)\n",
    "high = max_vals\n",
    "\n",
    "params = [s[0] for s in RADAR_METRICS]\n",
    "\n",
    "lower_is_better = ['Miscontrol']"
   ]
  },
  {
   "cell_type": "code",
   "execution_count": null,
   "id": "32e00806-1c3c-4c88-843e-6dbaf0b1a00b",
   "metadata": {},
   "outputs": [],
   "source": [
    "stats[\"club\"]"
   ]
  },
  {
   "cell_type": "code",
   "execution_count": null,
   "id": "66c5b3a9-75a8-456f-bd00-c7bd70b00d4c",
   "metadata": {},
   "outputs": [],
   "source": [
    "radar = Radar(params, low, high,\n",
    "              lower_is_better=lower_is_better,\n",
    "              round_int=[False]*len(params),\n",
    "              num_rings=5, \n",
    "              ring_width=1, center_circle_radius=1)"
   ]
  },
  {
   "cell_type": "code",
   "execution_count": null,
   "id": "5f719162-2fe4-41e2-be68-a17bb78c3894",
   "metadata": {},
   "outputs": [],
   "source": [
    "# creating the figure using the grid function from mplsoccer:\n",
    "fig, axs = grid(figheight=14, grid_height=0.915, title_height=0.06, endnote_height=0.025,\n",
    "                title_space=0, endnote_space=0, grid_key='radar', axis=False)\n",
    "\n",
    "# plot radar\n",
    "radar.setup_axis(ax=axs['radar'])  # format axis as a radar\n",
    "rings_inner = radar.draw_circles(ax=axs['radar'], facecolor='#ffb2b2', edgecolor='#fc5f5f')\n",
    "radar_output = radar.draw_radar_compare(vals_arr, vals_arr2, ax=axs['radar'],\n",
    "                                        kwargs_radar={'facecolor': '#00f2c1', 'alpha': 0.6},\n",
    "                                        kwargs_compare={'facecolor': '#d80499', 'alpha': 0.6})\n",
    "radar_poly, radar_poly2, vertices1, vertices2 = radar_output\n",
    "range_labels = radar.draw_range_labels(ax=axs['radar'], fontsize=25,\n",
    "                                       fontproperties=robotto_thin.prop)\n",
    "param_labels = radar.draw_param_labels(ax=axs['radar'], fontsize=25,\n",
    "                                       fontproperties=robotto_thin.prop)\n",
    "axs['radar'].scatter(vertices1[:, 0], vertices1[:, 1],\n",
    "                     c='#00f2c1', edgecolors='#6d6c6d', marker='o', s=150, zorder=2)\n",
    "axs['radar'].scatter(vertices2[:, 0], vertices2[:, 1],\n",
    "                     c='#d80499', edgecolors='#6d6c6d', marker='o', s=150, zorder=2)\n",
    "\n",
    "# adding the endnote and title text (these axes range from 0-1, i.e. 0, 0 is the bottom left)\n",
    "# Note we are slightly offsetting the text from the edges by 0.01 (1%, e.g. 0.99)\n",
    "endnote_text = axs['endnote'].text(0.99, 1.4, 'Inspired By: StatsBomb / Rami Moghadam', fontsize=15,\n",
    "                                   fontproperties=robotto_thin.prop, ha='right', va='center')\n",
    "endnote_text2 = axs['endnote'].text(0.99, 0.7, 'Created by: Enrique Revuelta - Smart Scout App', fontsize=15,\n",
    "                                   fontproperties=robotto_thin.prop, ha='right', va='center')\n",
    "endnote_text2 = axs['endnote'].text(0.99, 0.0, 'Data Source: FBref.com', fontsize=15,\n",
    "                                   fontproperties=robotto_thin.prop, ha='right', va='center')\n",
    "title1_text = axs['title'].text(0.01, 0.65, stats[\"full_name\"], fontsize=25, color='#01c49d',\n",
    "                                fontproperties=robotto_bold.prop, ha='left', va='center')\n",
    "title2_text = axs['title'].text(0.01, 0.25, stats['club'], fontsize=20,\n",
    "                                fontproperties=robotto_thin.prop,\n",
    "                                ha='left', va='center', color='#01c49d')\n",
    "title3_text = axs['title'].text(0.99, 0.65, stats2[\"full_name\"], fontsize=25,\n",
    "                                fontproperties=robotto_bold.prop,\n",
    "                                ha='right', va='center', color='#d80499')\n",
    "title4_text = axs['title'].text(0.99, 0.25, stats2[\"club\"], fontsize=20,\n",
    "                                fontproperties=robotto_thin.prop,\n",
    "                                ha='right', va='center', color='#d80499')"
   ]
  },
  {
   "cell_type": "markdown",
   "id": "12c22816-7b0a-41ef-b615-5970dbaf3f2d",
   "metadata": {},
   "source": [
    "### Pizza comparison chart"
   ]
  },
  {
   "cell_type": "code",
   "execution_count": null,
   "id": "774eb5de-d832-4d21-b4a8-99c7972f5667",
   "metadata": {},
   "outputs": [],
   "source": [
    "from highlight_text import fig_text"
   ]
  },
  {
   "cell_type": "code",
   "execution_count": null,
   "id": "12d05681-0a9d-432b-b351-824b9d215da4",
   "metadata": {},
   "outputs": [],
   "source": [
    "role = stats[\"position\"]\n",
    "player1 = stats[\"full_name\"]\n",
    "player2 = stats2[\"full_name\"]\n",
    "club1 = stats[\"club\"]\n",
    "club2 = stats2[\"club\"]"
   ]
  },
  {
   "cell_type": "code",
   "execution_count": null,
   "id": "6f32e983-34b3-4a0b-9f53-c6b2b32559a1",
   "metadata": {},
   "outputs": [],
   "source": [
    "params, values, values2, cats, max_vals = [], [], [], [], []\n",
    "for lbl, col, cat, max_val in ROLE_METRICS[role]:\n",
    "    val = float(stats.get(col, 0.0))\n",
    "    val2 = float(stats2.get(col, 0.0))\n",
    "    if col in INVERSE:          # invertir métricas donde menos es mejor\n",
    "        val = -val\n",
    "        val2 = -val2\n",
    "    params.append(lbl)\n",
    "    values.append(val)\n",
    "    values2.append(val2)\n",
    "    cats.append(cat)\n",
    "    max_vals.append(max_val)\n",
    "\n",
    "min_vals = [0.0] * len(max_vals)"
   ]
  },
  {
   "cell_type": "code",
   "execution_count": null,
   "id": "b11abe80-4161-4000-88c8-ab28d3fa1a67",
   "metadata": {},
   "outputs": [],
   "source": [
    "# instantiate PyPizza class\n",
    "baker = PyPizza(\n",
    "    params=params,\n",
    "    min_range=min_vals,        # min range values\n",
    "    max_range=max_vals,        # max range values\n",
    "    background_color=\"#222222\", straight_line_color=\"#000000\",\n",
    "    last_circle_color=\"#000000\", last_circle_lw=2.5, other_circle_lw=0,\n",
    "    other_circle_color=\"#000000\", straight_line_lw=1\n",
    ")"
   ]
  },
  {
   "cell_type": "code",
   "execution_count": null,
   "id": "481e4568-0ab1-4d62-8e4f-cf3d014015fe",
   "metadata": {},
   "outputs": [],
   "source": [
    "params_offset = [True for i in range(len(values))]"
   ]
  },
  {
   "cell_type": "code",
   "execution_count": null,
   "id": "54136f02-3355-4605-8aeb-bbe886171f04",
   "metadata": {},
   "outputs": [],
   "source": [
    "# plot pizza\n",
    "fig, ax = baker.make_pizza(\n",
    "    values,                     # list of values\n",
    "    compare_values=values2,    # passing comparison values\n",
    "    figsize=(8, 8),             # adjust figsize according to your need\n",
    "    color_blank_space=\"same\",   # use same color to fill blank space\n",
    "    blank_alpha=0.4,            # alpha for blank-space colors\n",
    "    param_location=110,         # where the parameters will be added\n",
    "    kwargs_slices=dict(\n",
    "        facecolor=\"#00f2c1\", edgecolor=\"#000000\",\n",
    "        zorder=1, linewidth=1\n",
    "    ),                          # values to be used when plotting slices\n",
    "    kwargs_compare=dict(\n",
    "        facecolor=\"#d80499\", edgecolor=\"#222222\", zorder=3, linewidth=1,\n",
    "    ),                          # values to be used when plotting comparison slices\n",
    "    kwargs_params=dict(\n",
    "        color=\"#F2F2F2\", fontsize=12, zorder=5,\n",
    "        fontproperties=font_normal.prop, va=\"center\"\n",
    "    ),                          # values to be used when adding parameter\n",
    "    kwargs_values=dict(\n",
    "        color=\"#000000\", fontsize=12,\n",
    "        fontproperties=font_normal.prop, zorder=3,\n",
    "        bbox=dict(\n",
    "            edgecolor=\"#000000\", facecolor=\"#00f2c1\",\n",
    "            boxstyle=\"round,pad=0.2\", lw=1\n",
    "        )\n",
    "    ),                           # values to be used when adding parameter-values\n",
    "    kwargs_compare_values=dict(\n",
    "        color=\"#000000\", fontsize=12,\n",
    "        fontproperties=font_normal.prop, zorder=3,\n",
    "        bbox=dict(\n",
    "            edgecolor=\"#000000\", facecolor=\"#d80499\",\n",
    "            boxstyle=\"round,pad=0.2\", lw=1\n",
    "        )\n",
    "    )                            # values to be used when adding comparison-values\n",
    ")\n",
    "\n",
    "\n",
    "# adjust the texts\n",
    "# to adjust text for comparison-values-text pass adj_comp_values=True\n",
    "baker.adjust_texts(params_offset, offset= 0.25)\n",
    "\n",
    "# add title\n",
    "fig_text(\n",
    "    0.515, 0.99, f\"<{player1} - {club1}> vs <{player2} - {club2}>\",\n",
    "    size=16, fig=fig,\n",
    "    highlight_textprops=[{\"color\": '#00f2c1'}, {\"color\": '#d80499'}],\n",
    "    ha=\"center\", fontproperties=font_bold.prop, color=\"#F2F2F2\"\n",
    ")\n",
    "\n",
    "# add credits\n",
    "CREDIT_1 = \"Data Source: FBref\"\n",
    "CREDIT_2 = \"Created by: Enrique Revuelta - Smart Scout App\"\n",
    "CREDIT_3 = \"Inspired by: @Worville, @FootballSlices, @somazerofc & @Soumyaj15209314\"\n",
    "\n",
    "fig.text(\n",
    "    0.99, 0.005, f\"{CREDIT_1}\\n{CREDIT_2}\\n{CREDIT_3}\", size=9,\n",
    "    fontproperties=font_italic.prop, color=\"#F2F2F2\",\n",
    "    ha=\"right\"\n",
    ")\n",
    "\n",
    "plt.show()\n"
   ]
  },
  {
   "cell_type": "code",
   "execution_count": null,
   "id": "9f981d80-29c3-4acc-814f-28e032371fc6",
   "metadata": {},
   "outputs": [],
   "source": []
  }
 ],
 "metadata": {
  "kernelspec": {
   "display_name": "Python 3 (ipykernel)",
   "language": "python",
   "name": "python3"
  },
  "language_info": {
   "codemirror_mode": {
    "name": "ipython",
    "version": 3
   },
   "file_extension": ".py",
   "mimetype": "text/x-python",
   "name": "python",
   "nbconvert_exporter": "python",
   "pygments_lexer": "ipython3",
   "version": "3.11.13"
  }
 },
 "nbformat": 4,
 "nbformat_minor": 5
}

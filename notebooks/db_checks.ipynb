{
 "cells": [
  {
   "cell_type": "code",
   "execution_count": null,
   "id": "a6dec264-1bbc-43b2-b214-912048d01c52",
   "metadata": {},
   "outputs": [],
   "source": [
    "!pip install unidecode"
   ]
  },
  {
   "cell_type": "code",
   "execution_count": null,
   "id": "d668f658-a3c1-4f43-acf9-1c1f114952c1",
   "metadata": {},
   "outputs": [],
   "source": [
    "import pandas as pd\n",
    "import re, unidecode, sqlalchemy as sa\n",
    "from sqlalchemy.orm import Session\n",
    "from sqlalchemy.dialects.postgresql import insert\n",
    "from tqdm.auto import tqdm\n",
    "\n",
    "from apps.ingestion.seed_and_ingest import Player, FootballNews, Base, get_engine\n",
    "\n",
    "DB_URL = \"postgresql+psycopg2://scout:scout@db:5432/scouting\"\n",
    "engine = sa.create_engine(DB_URL)"
   ]
  },
  {
   "cell_type": "code",
   "execution_count": null,
   "id": "35ff247a-240f-404a-9437-2a824d83347b",
   "metadata": {},
   "outputs": [],
   "source": [
    "# total de jugadores\n",
    "with engine.connect() as conn:\n",
    "    n_players = conn.scalar(sa.text(\"SELECT COUNT(*) FROM players\"))\n",
    "print(f\"Hay {n_players:,} jugadores\")"
   ]
  },
  {
   "cell_type": "code",
   "execution_count": null,
   "id": "7bbb89fe-e35e-4373-ab3a-c0dc650ee0ca",
   "metadata": {},
   "outputs": [],
   "source": [
    "df_players = pd.read_sql_table(\"players\", con=engine)"
   ]
  },
  {
   "cell_type": "code",
   "execution_count": null,
   "id": "b7b034ff-9e3b-46bc-8347-f9be365a1e67",
   "metadata": {},
   "outputs": [],
   "source": [
    "df_players[df_players[\"full_name\"].str.contains(\"Lamine Yamal\")]"
   ]
  },
  {
   "cell_type": "code",
   "execution_count": null,
   "id": "7aa5de35-13ad-4fb6-8f53-cb116c09e1b9",
   "metadata": {},
   "outputs": [],
   "source": [
    "df_players.info()"
   ]
  },
  {
   "cell_type": "markdown",
   "id": "09fbc8cc-f657-4583-84ed-02c4726e7b6b",
   "metadata": {},
   "source": [
    "## Creating feature_vector Column"
   ]
  },
  {
   "cell_type": "code",
   "execution_count": null,
   "id": "0b081908-8887-4299-aafc-2c96a36f56bf",
   "metadata": {},
   "outputs": [],
   "source": [
    "from sqlalchemy import create_engine, text\n",
    "\n",
    "# 1️⃣  Conexión -------------------------------------------------\n",
    "engine = create_engine(\n",
    "    \"postgresql+psycopg2://scout:scout@db:5432/scouting\",\n",
    "    isolation_level=\"AUTOCOMMIT\",  # evita tener que hacer COMMIT explícito\n",
    ")\n",
    "\n",
    "# 2️⃣  Parámetros que necesitas saber de antemano --------------\n",
    "PLAYER_DIM = 43   # ← dimensión real de tu vector de jugador\n",
    "LISTS      = 140   # ← granularidad del índice IVFFLAT\n",
    "\n",
    "with engine.begin() as conn:\n",
    "    # 3️⃣  Activa la extensión pgvector (idempotente) -----------\n",
    "    conn.execute(text(\"CREATE EXTENSION IF NOT EXISTS vector;\"))\n",
    "\n",
    "    # 4️⃣  Añade la nueva columna vector(N) y migra los datos ---\n",
    "    conn.execute(text(f\"\"\"\n",
    "        ALTER TABLE players\n",
    "          ADD COLUMN IF NOT EXISTS feature_tmp vector({PLAYER_DIM});\n",
    "\n",
    "        UPDATE players\n",
    "          SET feature_tmp = feature_vector::vector\n",
    "          WHERE feature_tmp IS NULL;      -- evita tocar filas ya convertidas\n",
    "\n",
    "        ALTER TABLE players\n",
    "          DROP COLUMN IF EXISTS feature_vector;\n",
    "        ALTER TABLE players\n",
    "          RENAME COLUMN feature_tmp TO feature_vector;\n",
    "    \"\"\"))\n",
    "\n",
    "    # 5️⃣  Crea (o recrea) el índice IVFFLAT --------------------\n",
    "    conn.execute(text(f\"\"\"\n",
    "        CREATE INDEX IF NOT EXISTS players_feature_vec_idx\n",
    "        ON players USING ivfflat (feature_vector vector_cosine_ops)\n",
    "        WITH (lists = {LISTS});\n",
    "    \"\"\"))\n",
    "\n",
    "print(\"Migración a pgvector finalizada ✔️\")"
   ]
  },
  {
   "cell_type": "markdown",
   "id": "49612ce3-5d3e-49d9-b03b-287930e74f4e",
   "metadata": {},
   "source": [
    "### Populate feature_vector Column"
   ]
  },
  {
   "cell_type": "code",
   "execution_count": null,
   "id": "8d4031fd-6199-46e0-b351-f325289a4230",
   "metadata": {},
   "outputs": [],
   "source": [
    "FEATURE_COLS = [\n",
    "    \"minutes\", \"minutes_90s\",\n",
    "    \"goals\", \"assists\",\n",
    "    \"expected_goals\", \"expected_assists\",\n",
    "    \"no_penalty_expected_goals_plus_expected_assists\",\n",
    "    \"progressive_carries\", \"progressive_passes\", \"progressive_passes_received\",\n",
    "    \"goals_per90\", \"assists_per90\", \"goals_assists_per90\",\n",
    "    \"expected_goals_per90\", \"expected_assists_per90\", \"expected_goals_assists_per90\",\n",
    "    \"gk_goals_against\", \"gk_pens_allowed\", \"gk_free_kick_goals_against\",\n",
    "    \"gk_corner_kick_goals_against\", \"gk_own_goals_against\",\n",
    "    \"gk_psxg\", \"gk_psnpxg_per_shot_on_target_against\",\n",
    "    \"passes_completed\", \"passes\", \"passes_pct\",\n",
    "    \"passes_progressive_distance\", \"passes_completed_long\", \"passes_long\", \"passes_pct_long\",\n",
    "    \"tackles\", \"tackles_won\", \"challenge_tackles\", \"challenges\",\n",
    "    \"challenge_tackles_pct\", \"challenges_lost\",\n",
    "    \"blocks\", \"blocked_shots\", \"blocked_passes\",\n",
    "    \"interceptions\", \"tackles_interceptions\", \"clearances\", \"errors\"\n",
    "]\n",
    "\n",
    "df = pd.read_sql(\n",
    "    f\"SELECT id, {', '.join(FEATURE_COLS)} FROM players\",\n",
    "    engine\n",
    ")"
   ]
  },
  {
   "cell_type": "code",
   "execution_count": null,
   "id": "b2340d65-c24b-486c-a14f-bc5da18e3dfd",
   "metadata": {},
   "outputs": [],
   "source": [
    "df"
   ]
  },
  {
   "cell_type": "markdown",
   "id": "d3b4089f-b928-43d5-9b50-409a2010e11d",
   "metadata": {},
   "source": [
    "#### Standarization feature_vector values"
   ]
  },
  {
   "cell_type": "code",
   "execution_count": null,
   "id": "912b6214-d2bb-4d17-a1d4-e84c0be02d0a",
   "metadata": {},
   "outputs": [],
   "source": [
    "from sklearn.preprocessing import StandardScaler\n",
    "\n",
    "scaler = StandardScaler()\n",
    "emb_matrix = scaler.fit_transform(df[FEATURE_COLS]).astype(\"float32\")"
   ]
  },
  {
   "cell_type": "code",
   "execution_count": null,
   "id": "a5bb0723-79da-4896-8049-9dabf8df6533",
   "metadata": {},
   "outputs": [],
   "source": [
    "df[\"feature_vector\"] = [vec.tolist() for vec in emb_matrix]"
   ]
  },
  {
   "cell_type": "code",
   "execution_count": null,
   "id": "dae84982-3b98-4e2b-a97c-b204a5e902c7",
   "metadata": {},
   "outputs": [],
   "source": []
  },
  {
   "cell_type": "code",
   "execution_count": null,
   "id": "7f9a0154-fe86-4765-8cae-f5c033850ece",
   "metadata": {},
   "outputs": [],
   "source": [
    "df.info()"
   ]
  },
  {
   "cell_type": "code",
   "execution_count": null,
   "id": "1465e36e-32c8-4baa-8166-7f61bb462bd9",
   "metadata": {},
   "outputs": [],
   "source": [
    "from pgvector.sqlalchemy import Vector\n",
    "\n",
    "with engine.begin() as conn:\n",
    "    conn.execute(\n",
    "        text(\"\"\"\n",
    "            UPDATE players\n",
    "            SET feature_vector = :vec\n",
    "            WHERE id = :pid\n",
    "        \"\"\"),\n",
    "        [{\"pid\": pid, \"vec\": vec} for pid, vec in zip(df.id, df.feature_vector)]\n",
    "    )"
   ]
  },
  {
   "cell_type": "markdown",
   "id": "e7895f5f-03fb-443c-a855-a6633a38ffa4",
   "metadata": {},
   "source": [
    "#### Checks"
   ]
  },
  {
   "cell_type": "code",
   "execution_count": null,
   "id": "06bbc1eb-826d-40bd-aabd-08b98fac1e2e",
   "metadata": {},
   "outputs": [],
   "source": [
    "check = pd.read_sql(\n",
    "    \"SELECT vector_dims(feature_vector) AS dim, COUNT(*) FROM players GROUP BY dim;\",\n",
    "    engine\n",
    ")\n",
    "assert check[\"dim\"].iloc[0] == 43, \"Alguna fila no tiene dimensión 43\"\n",
    "print(check)"
   ]
  },
  {
   "cell_type": "code",
   "execution_count": null,
   "id": "36fd2c08-b8ff-48e7-a39a-977bbe26a297",
   "metadata": {},
   "outputs": [],
   "source": [
    "with engine.begin() as conn:\n",
    "    conn.execute(text(\"ANALYZE players;\"))\n",
    "    conn.execute(text(\"SET ivfflat.probes = 10;\")) "
   ]
  },
  {
   "cell_type": "code",
   "execution_count": null,
   "id": "0d777326-cb82-4628-b372-64754bff9803",
   "metadata": {},
   "outputs": [],
   "source": [
    "query = \"\"\"\n",
    "EXPLAIN (ANALYZE, BUFFERS)\n",
    "SELECT * FROM players\n",
    "ORDER BY feature_vector <=> (SELECT feature_vector FROM players WHERE id = 42)\n",
    "LIMIT 15;\n",
    "\"\"\""
   ]
  },
  {
   "cell_type": "code",
   "execution_count": null,
   "id": "ef6aecc6-a13b-4498-8698-571a8ab4da76",
   "metadata": {},
   "outputs": [],
   "source": [
    "with engine.begin() as conn:\n",
    "    conn.execute(text(query))"
   ]
  },
  {
   "cell_type": "code",
   "execution_count": null,
   "id": "71009803-90ef-416d-a6eb-bb73e11f7407",
   "metadata": {},
   "outputs": [],
   "source": [
    "df_plan = pd.read_sql(query, engine)\n",
    "display(df_plan)"
   ]
  },
  {
   "cell_type": "code",
   "execution_count": null,
   "id": "b2b85c21-a56f-4b61-8776-be431d8b4945",
   "metadata": {},
   "outputs": [],
   "source": [
    "df"
   ]
  },
  {
   "cell_type": "markdown",
   "id": "f0eaad6a-7443-4cd7-bf90-b7f61365f25a",
   "metadata": {},
   "source": [
    "## Football news Table validations "
   ]
  },
  {
   "cell_type": "code",
   "execution_count": null,
   "id": "763c3c3e-0227-443f-9b52-35a0bcbb70de",
   "metadata": {},
   "outputs": [],
   "source": [
    "# primeras 5 noticias\n",
    "query = \"\"\"\n",
    "SELECT *\n",
    "FROM football_news\n",
    "ORDER BY published_at DESC\n",
    "LIMIT 5\n",
    "\"\"\"\n",
    "df = pd.read_sql(query, con=engine)\n",
    "df"
   ]
  },
  {
   "cell_type": "code",
   "execution_count": null,
   "id": "6d449a2d-0536-460a-a002-90f1a3b063e2",
   "metadata": {},
   "outputs": [],
   "source": [
    "df.summary[4]"
   ]
  },
  {
   "cell_type": "markdown",
   "id": "2d3538de-5246-490d-a989-a147318f4c1d",
   "metadata": {},
   "source": [
    "## Player Id - News ID table creation"
   ]
  },
  {
   "cell_type": "code",
   "execution_count": null,
   "id": "603378bb-de29-4760-80e2-251b1a1fa11e",
   "metadata": {},
   "outputs": [],
   "source": []
  },
  {
   "cell_type": "code",
   "execution_count": null,
   "id": "b3457600-fb8c-419e-846c-57453bb5c9d9",
   "metadata": {},
   "outputs": [],
   "source": []
  },
  {
   "cell_type": "code",
   "execution_count": null,
   "id": "cf0f2cd2-89b0-4f31-8e03-5bd033c3105a",
   "metadata": {},
   "outputs": [],
   "source": [
    "from sqlalchemy import create_engine, text\n",
    "\n",
    "# 1️⃣  Conexión -------------------------------------------------\n",
    "engine = create_engine(\n",
    "    \"postgresql+psycopg2://scout:scout@db:5432/scouting\",\n",
    "    isolation_level=\"AUTOCOMMIT\",  # evita tener que hacer COMMIT explícito\n",
    ")"
   ]
  },
  {
   "cell_type": "code",
   "execution_count": null,
   "id": "e186a901-c359-4291-bf3c-050563b46829",
   "metadata": {},
   "outputs": [],
   "source": [
    "query = \"\"\"\n",
    "CREATE TABLE IF NOT EXISTS player_news (\n",
    "  player_id  INTEGER NOT NULL REFERENCES players(id) ON DELETE CASCADE,\n",
    "  news_id    INTEGER NOT NULL REFERENCES football_news(id) ON DELETE CASCADE,\n",
    "  PRIMARY KEY (player_id, news_id)\n",
    ");\n",
    "\"\"\"\n",
    "\n",
    "query2 = \"\"\"\n",
    "CREATE INDEX IF NOT EXISTS player_news_player_idx\n",
    "ON player_news(player_id);\n",
    "\"\"\""
   ]
  },
  {
   "cell_type": "code",
   "execution_count": null,
   "id": "7d8294ad-8782-444d-ac0e-f4c7adfe7e77",
   "metadata": {},
   "outputs": [],
   "source": [
    "with engine.begin() as conn:\n",
    "    conn.execute(text(query))\n",
    "\n",
    "    conn.execute(text(query2))\n",
    "\n",
    "print(\"Tabla Creada finalizada ✔️\")"
   ]
  },
  {
   "cell_type": "code",
   "execution_count": null,
   "id": "5e9086c8-643f-414e-afd1-641bb2eccea7",
   "metadata": {},
   "outputs": [],
   "source": [
    "player_news = sa.Table(\n",
    "    \"player_news\", Base.metadata,\n",
    "    sa.Column(\"player_id\", sa.Integer),\n",
    "    sa.Column(\"news_id\",   sa.Integer),\n",
    "    sa.PrimaryKeyConstraint(\"player_id\", \"news_id\")\n",
    ")"
   ]
  },
  {
   "cell_type": "code",
   "execution_count": null,
   "id": "7159e506-e161-429b-8e85-65802852330b",
   "metadata": {},
   "outputs": [],
   "source": [
    "def normalize(text: str) -> str:\n",
    "    \"\"\"minúsculas y sin tildes/acentos para comparar.\"\"\"\n",
    "    return unidecode.unidecode(text).lower().strip()\n",
    "\n",
    "with Session(engine) as sess:\n",
    "    # ── 1. Diccionario {nombre normalizado: id} ────────────────────────\n",
    "    players = sess.query(Player.id, Player.full_name).all()\n",
    "    name_to_id = {normalize(p.full_name): p.id for p in players}\n",
    "\n",
    "    # regex con todos los nombres (palabra completa)\n",
    "    pattern = r\"\\b(\" + \"|\".join(re.escape(n) for n in name_to_id) + r\")\\b\"\n",
    "    name_re = re.compile(pattern, re.I)\n",
    "\n",
    "    # ── 2. Iteramos con barra de progreso sobre las noticias ───────────\n",
    "    news_rows = sess.query(FootballNews).all()\n",
    "    inserted = 0\n",
    "\n",
    "    for news in tqdm(news_rows, desc=\"Vinculando noticias\", unit=\"noticia\"):\n",
    "        # nombres encontrados en el artículo\n",
    "        matches = {normalize(m.group(0)) for m in name_re.finditer(news.article_text)}\n",
    "\n",
    "        for norm_name in matches:\n",
    "            player_id = name_to_id.get(norm_name)\n",
    "            if not player_id:\n",
    "                continue  # nombre no está en la tabla players\n",
    "\n",
    "            stmt = (\n",
    "                insert(player_news)\n",
    "                .values(player_id=player_id, news_id=news.id)\n",
    "                .on_conflict_do_nothing()\n",
    "            )\n",
    "            sess.execute(stmt)\n",
    "            inserted += 1\n",
    "\n",
    "    sess.commit()\n",
    "\n",
    "print(f\"🔗 player_news enlazados: {inserted}\")\n"
   ]
  },
  {
   "cell_type": "code",
   "execution_count": null,
   "id": "c0220da3-6e45-4ba7-ac79-9c9e9522fad9",
   "metadata": {},
   "outputs": [],
   "source": [
    "# Conteo global\n",
    "with engine.connect() as conn:\n",
    "    n_players_news = conn.scalar(sa.text(\"SELECT COUNT(*) FROM player_news\"))"
   ]
  },
  {
   "cell_type": "code",
   "execution_count": null,
   "id": "0a76cec3-87fc-498c-b415-e1924eb63d09",
   "metadata": {},
   "outputs": [],
   "source": [
    "print(f\"Hay {n_players_news:,} jugadores con noticas asociadas\")"
   ]
  },
  {
   "cell_type": "code",
   "execution_count": null,
   "id": "a349a325-b9a0-4f6b-ac78-acb55386ae22",
   "metadata": {},
   "outputs": [],
   "source": [
    "# Top-10 jugadores con más artículos\n",
    "top = pd.read_sql(\"\"\"\n",
    "    SELECT p.full_name, COUNT(*) AS n_news\n",
    "    FROM player_news pn\n",
    "    JOIN players p ON p.id = pn.player_id\n",
    "    GROUP BY p.full_name\n",
    "    ORDER BY n_news DESC\n",
    "    LIMIT 10\n",
    "\"\"\", engine)\n",
    "display(top)\n",
    "\n",
    "# Últimas 5 noticias para Rodri\n",
    "rodri_news = pd.read_sql(\"\"\"\n",
    "    SELECT n.title, n.summary, n.published_at\n",
    "    FROM player_news pn\n",
    "    JOIN football_news n ON n.id = pn.news_id\n",
    "    WHERE pn.player_id = 842\n",
    "    ORDER BY n.published_at DESC\n",
    "    LIMIT 5\n",
    "\"\"\", engine)\n",
    "display(rodri_news)"
   ]
  },
  {
   "cell_type": "code",
   "execution_count": null,
   "id": "7f9369ec-c88a-443b-a990-5c7493425e50",
   "metadata": {},
   "outputs": [],
   "source": []
  }
 ],
 "metadata": {
  "kernelspec": {
   "display_name": "Python 3 (ipykernel)",
   "language": "python",
   "name": "python3"
  },
  "language_info": {
   "codemirror_mode": {
    "name": "ipython",
    "version": 3
   },
   "file_extension": ".py",
   "mimetype": "text/x-python",
   "name": "python",
   "nbconvert_exporter": "python",
   "pygments_lexer": "ipython3",
   "version": "3.11.13"
  }
 },
 "nbformat": 4,
 "nbformat_minor": 5
}

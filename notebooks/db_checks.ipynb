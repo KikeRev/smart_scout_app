{
 "cells": [
  {
   "cell_type": "code",
   "execution_count": null,
   "id": "d668f658-a3c1-4f43-acf9-1c1f114952c1",
   "metadata": {},
   "outputs": [],
   "source": [
    "import sqlalchemy as sa\n",
    "import pandas as pd\n",
    "\n",
    "DB_URL = \"postgresql+psycopg2://scout:scout@db:5432/scouting\"\n",
    "engine = sa.create_engine(DB_URL)\n",
    "\n",
    "# total de jugadores\n",
    "with engine.connect() as conn:\n",
    "    n_players = conn.scalar(sa.text(\"SELECT COUNT(*) FROM players\"))\n",
    "print(f\"Hay {n_players:,} jugadores\")"
   ]
  },
  {
   "cell_type": "code",
   "execution_count": null,
   "id": "7bbb89fe-e35e-4373-ab3a-c0dc650ee0ca",
   "metadata": {},
   "outputs": [],
   "source": [
    "df_players = pd.read_sql_table(\"players\", con=engine)"
   ]
  },
  {
   "cell_type": "code",
   "execution_count": null,
   "id": "b7b034ff-9e3b-46bc-8347-f9be365a1e67",
   "metadata": {},
   "outputs": [],
   "source": [
    "df_players.head()"
   ]
  },
  {
   "cell_type": "code",
   "execution_count": null,
   "id": "7aa5de35-13ad-4fb6-8f53-cb116c09e1b9",
   "metadata": {},
   "outputs": [],
   "source": [
    "df_players.info()"
   ]
  },
  {
   "cell_type": "markdown",
   "id": "09fbc8cc-f657-4583-84ed-02c4726e7b6b",
   "metadata": {},
   "source": [
    "## Creating feature_vector Column"
   ]
  },
  {
   "cell_type": "code",
   "execution_count": null,
   "id": "0b081908-8887-4299-aafc-2c96a36f56bf",
   "metadata": {},
   "outputs": [],
   "source": [
    "from sqlalchemy import create_engine, text\n",
    "\n",
    "# 1️⃣  Conexión -------------------------------------------------\n",
    "engine = create_engine(\n",
    "    \"postgresql+psycopg2://scout:scout@db:5432/scouting\",\n",
    "    isolation_level=\"AUTOCOMMIT\",  # evita tener que hacer COMMIT explícito\n",
    ")\n",
    "\n",
    "# 2️⃣  Parámetros que necesitas saber de antemano --------------\n",
    "PLAYER_DIM = 43   # ← dimensión real de tu vector de jugador\n",
    "LISTS      = 140   # ← granularidad del índice IVFFLAT\n",
    "\n",
    "with engine.begin() as conn:\n",
    "    # 3️⃣  Activa la extensión pgvector (idempotente) -----------\n",
    "    conn.execute(text(\"CREATE EXTENSION IF NOT EXISTS vector;\"))\n",
    "\n",
    "    # 4️⃣  Añade la nueva columna vector(N) y migra los datos ---\n",
    "    conn.execute(text(f\"\"\"\n",
    "        ALTER TABLE players\n",
    "          ADD COLUMN IF NOT EXISTS feature_tmp vector({PLAYER_DIM});\n",
    "\n",
    "        UPDATE players\n",
    "          SET feature_tmp = feature_vector::vector\n",
    "          WHERE feature_tmp IS NULL;      -- evita tocar filas ya convertidas\n",
    "\n",
    "        ALTER TABLE players\n",
    "          DROP COLUMN IF EXISTS feature_vector;\n",
    "        ALTER TABLE players\n",
    "          RENAME COLUMN feature_tmp TO feature_vector;\n",
    "    \"\"\"))\n",
    "\n",
    "    # 5️⃣  Crea (o recrea) el índice IVFFLAT --------------------\n",
    "    conn.execute(text(f\"\"\"\n",
    "        CREATE INDEX IF NOT EXISTS players_feature_vec_idx\n",
    "        ON players USING ivfflat (feature_vector vector_cosine_ops)\n",
    "        WITH (lists = {LISTS});\n",
    "    \"\"\"))\n",
    "\n",
    "print(\"Migración a pgvector finalizada ✔️\")"
   ]
  },
  {
   "cell_type": "markdown",
   "id": "49612ce3-5d3e-49d9-b03b-287930e74f4e",
   "metadata": {},
   "source": [
    "### Populate feature_vector Column"
   ]
  },
  {
   "cell_type": "code",
   "execution_count": null,
   "id": "8d4031fd-6199-46e0-b351-f325289a4230",
   "metadata": {},
   "outputs": [],
   "source": [
    "FEATURE_COLS = [\n",
    "    \"minutes\", \"minutes_90s\",\n",
    "    \"goals\", \"assists\",\n",
    "    \"expected_goals\", \"expected_assists\",\n",
    "    \"no_penalty_expected_goals_plus_expected_assists\",\n",
    "    \"progressive_carries\", \"progressive_passes\", \"progressive_passes_received\",\n",
    "    \"goals_per90\", \"assists_per90\", \"goals_assists_per90\",\n",
    "    \"expected_goals_per90\", \"expected_assists_per90\", \"expected_goals_assists_per90\",\n",
    "    \"gk_goals_against\", \"gk_pens_allowed\", \"gk_free_kick_goals_against\",\n",
    "    \"gk_corner_kick_goals_against\", \"gk_own_goals_against\",\n",
    "    \"gk_psxg\", \"gk_psnpxg_per_shot_on_target_against\",\n",
    "    \"passes_completed\", \"passes\", \"passes_pct\",\n",
    "    \"passes_progressive_distance\", \"passes_completed_long\", \"passes_long\", \"passes_pct_long\",\n",
    "    \"tackles\", \"tackles_won\", \"challenge_tackles\", \"challenges\",\n",
    "    \"challenge_tackles_pct\", \"challenges_lost\",\n",
    "    \"blocks\", \"blocked_shots\", \"blocked_passes\",\n",
    "    \"interceptions\", \"tackles_interceptions\", \"clearances\", \"errors\"\n",
    "]\n",
    "\n",
    "df = pd.read_sql(\n",
    "    f\"SELECT id, {', '.join(FEATURE_COLS)} FROM players\",\n",
    "    engine\n",
    ")"
   ]
  },
  {
   "cell_type": "code",
   "execution_count": null,
   "id": "b2340d65-c24b-486c-a14f-bc5da18e3dfd",
   "metadata": {},
   "outputs": [],
   "source": [
    "df"
   ]
  },
  {
   "cell_type": "markdown",
   "id": "d3b4089f-b928-43d5-9b50-409a2010e11d",
   "metadata": {},
   "source": [
    "#### Standarization feature_vector values"
   ]
  },
  {
   "cell_type": "code",
   "execution_count": null,
   "id": "912b6214-d2bb-4d17-a1d4-e84c0be02d0a",
   "metadata": {},
   "outputs": [],
   "source": [
    "from sklearn.preprocessing import StandardScaler\n",
    "\n",
    "scaler = StandardScaler()\n",
    "emb_matrix = scaler.fit_transform(df[FEATURE_COLS]).astype(\"float32\")"
   ]
  },
  {
   "cell_type": "code",
   "execution_count": null,
   "id": "a5bb0723-79da-4896-8049-9dabf8df6533",
   "metadata": {},
   "outputs": [],
   "source": [
    "df[\"feature_vector_py\"] = [vec.tolist() for vec in emb_matrix]"
   ]
  },
  {
   "cell_type": "code",
   "execution_count": null,
   "id": "7f9a0154-fe86-4765-8cae-f5c033850ece",
   "metadata": {},
   "outputs": [],
   "source": [
    "df.info()"
   ]
  },
  {
   "cell_type": "code",
   "execution_count": null,
   "id": "1465e36e-32c8-4baa-8166-7f61bb462bd9",
   "metadata": {},
   "outputs": [],
   "source": [
    "from pgvector.sqlalchemy import Vector\n",
    "\n",
    "with engine.begin() as conn:\n",
    "    conn.execute(\n",
    "        text(\"\"\"\n",
    "            UPDATE players\n",
    "            SET feature_vector = :vec\n",
    "            WHERE id = :pid\n",
    "        \"\"\"),\n",
    "        [{\"pid\": pid, \"vec\": vec} for pid, vec in zip(df.id, df.feature_vector_py)]\n",
    "    )"
   ]
  },
  {
   "cell_type": "markdown",
   "id": "e7895f5f-03fb-443c-a855-a6633a38ffa4",
   "metadata": {},
   "source": [
    "#### Checks"
   ]
  },
  {
   "cell_type": "code",
   "execution_count": null,
   "id": "06bbc1eb-826d-40bd-aabd-08b98fac1e2e",
   "metadata": {},
   "outputs": [],
   "source": [
    "check = pd.read_sql(\n",
    "    \"SELECT vector_dims(feature_vector) AS dim, COUNT(*) FROM players GROUP BY dim;\",\n",
    "    engine\n",
    ")\n",
    "assert check[\"dim\"].iloc[0] == 43, \"Alguna fila no tiene dimensión 43\"\n",
    "print(check)"
   ]
  },
  {
   "cell_type": "code",
   "execution_count": null,
   "id": "36fd2c08-b8ff-48e7-a39a-977bbe26a297",
   "metadata": {},
   "outputs": [],
   "source": [
    "with engine.begin() as conn:\n",
    "    conn.execute(text(\"ANALYZE players;\"))\n",
    "    conn.execute(text(\"SET ivfflat.probes = 10;\")) "
   ]
  },
  {
   "cell_type": "code",
   "execution_count": null,
   "id": "0d777326-cb82-4628-b372-64754bff9803",
   "metadata": {},
   "outputs": [],
   "source": [
    "query = \"\"\"\n",
    "EXPLAIN (ANALYZE, BUFFERS)\n",
    "SELECT * FROM players\n",
    "ORDER BY feature_vector <=> (SELECT feature_vector FROM players WHERE id = 42)\n",
    "LIMIT 15;\n",
    "\"\"\""
   ]
  },
  {
   "cell_type": "code",
   "execution_count": null,
   "id": "ef6aecc6-a13b-4498-8698-571a8ab4da76",
   "metadata": {},
   "outputs": [],
   "source": [
    "with engine.begin() as conn:\n",
    "    conn.execute(text(query))"
   ]
  },
  {
   "cell_type": "code",
   "execution_count": null,
   "id": "71009803-90ef-416d-a6eb-bb73e11f7407",
   "metadata": {},
   "outputs": [],
   "source": [
    "df_plan = pd.read_sql(query, engine)\n",
    "display(df_plan)"
   ]
  },
  {
   "cell_type": "code",
   "execution_count": null,
   "id": "b2b85c21-a56f-4b61-8776-be431d8b4945",
   "metadata": {},
   "outputs": [],
   "source": [
    "df"
   ]
  },
  {
   "cell_type": "markdown",
   "id": "f0eaad6a-7443-4cd7-bf90-b7f61365f25a",
   "metadata": {},
   "source": [
    "## Football news Table validations "
   ]
  },
  {
   "cell_type": "code",
   "execution_count": null,
   "id": "763c3c3e-0227-443f-9b52-35a0bcbb70de",
   "metadata": {},
   "outputs": [],
   "source": [
    "# primeras 5 noticias\n",
    "query = \"\"\"\n",
    "SELECT *\n",
    "FROM football_news\n",
    "ORDER BY published_at DESC\n",
    "LIMIT 5\n",
    "\"\"\"\n",
    "df = pd.read_sql(query, con=engine)\n",
    "df"
   ]
  },
  {
   "cell_type": "code",
   "execution_count": null,
   "id": "6d449a2d-0536-460a-a002-90f1a3b063e2",
   "metadata": {},
   "outputs": [],
   "source": []
  }
 ],
 "metadata": {
  "kernelspec": {
   "display_name": "Python 3 (ipykernel)",
   "language": "python",
   "name": "python3"
  },
  "language_info": {
   "codemirror_mode": {
    "name": "ipython",
    "version": 3
   },
   "file_extension": ".py",
   "mimetype": "text/x-python",
   "name": "python",
   "nbconvert_exporter": "python",
   "pygments_lexer": "ipython3",
   "version": "3.11.13"
  }
 },
 "nbformat": 4,
 "nbformat_minor": 5
}

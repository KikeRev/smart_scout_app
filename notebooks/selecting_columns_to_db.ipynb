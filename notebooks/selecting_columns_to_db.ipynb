{
 "cells": [
  {
   "cell_type": "code",
   "execution_count": 1,
   "id": "412c2623-cb65-487a-a69e-b1b9d812af16",
   "metadata": {},
   "outputs": [],
   "source": [
    "import pandas as pd"
   ]
  },
  {
   "cell_type": "code",
   "execution_count": 2,
   "id": "0266218c-7af4-455a-a21d-bdaf983bc389",
   "metadata": {},
   "outputs": [],
   "source": [
    "df = pd.read_csv(\"data/all_players_cleaned.csv\")"
   ]
  },
  {
   "cell_type": "code",
   "execution_count": 5,
   "id": "6e44f021-f571-4e69-9486-41ee8c1db5c5",
   "metadata": {},
   "outputs": [],
   "source": [
    "CSV_COLUMN_MAP = {\n",
    "    \"player\": \"full_name\",\n",
    "    \"age\": \"age\",\n",
    "    \"nationality\": \"nationality\",\n",
    "    \"position\": \"position\",\n",
    "    \"Team\": \"club\",\n",
    "    'Team_Logo':'Team_Logo',\n",
    "    'League':'League',\n",
    "    \"minutes\": \"minutes\",\n",
    "    \"minutes_90s\": \"minutes_90s\",\n",
    "    \"goals\": \"goals\",\n",
    "    \"assists\":\"assists\",\n",
    "    \"xg\":\"expected_goals\",\n",
    "    \"xg_assists\": \"expected_assists\",\n",
    "    \"npxg_xg_assists\":\"no_penalty_goals_expected_plus_expected_assists\",\n",
    "    'progressive_carries':'progressive_carries',\n",
    "    'progressive_passes':'progressive_passes',\n",
    "    'progressive_passes_received':'progressive_passes_received',\n",
    "    'goals_per90':'goals_per90',\n",
    "    'assists_per90':'assists_per90',\n",
    "    'goals_assists_per90':'goals_assists_per90',\n",
    "    'xg_per90':\"expected_goals_per_90_min\",\n",
    "    'xg_assist_per90':\"expected_assists_per_90_min\",\n",
    "    'xg_xg_assist_per90':\"expected_goals_assists_per_90_min\",\n",
    "    'gk_goals_against': \"'gk_goals_against'\",\n",
    "    'gk_pens_allowed':'gk_pens_allowed',\n",
    "    'gk_free_kick_goals_against':'gk_free_kick_goals_against',\n",
    "    'gk_corner_kick_goals_against':'gk_corner_kick_goals_against',\n",
    "    'gk_own_goals_against':'gk_own_goals_against',\n",
    "    'gk_psxg':'gk_per_shot_expected_goals',\n",
    "    'gk_psnpxg_per_shot_on_target_against':'gk_psnpxg_per_shot_on_target_against',\n",
    "    'passes_completed':'passes_completed',\n",
    "    'passes':'passes',\n",
    "    'passes_pct':'passes_pct',\n",
    "    'passes_progressive_distance':'passes_progressive_distance',\n",
    "    'passes_completed_long':'passes_completed_long',\n",
    "    'passes_long':'passes_long',\n",
    "    'passes_pct_long':'passes_pct_long',\n",
    "    'tackles':'tackles',\n",
    "    'tackles_won':'tackles_won',\n",
    "    'challenge_tackles': 'challenge_tackles',\n",
    "    'challenges': 'challenges',\n",
    "    'challenge_tackles_pct':'challenge_tackles_pct',\n",
    "    'challenges_lost':'challenges_lost',\n",
    "    'blocks':'blocks',\n",
    "    'blocked_shots':'blocked_shots',\n",
    "    'blocked_passes': 'blocked_passes',\n",
    "    'interceptions': 'interceptions',\n",
    "    'tackles_interceptions': 'tackles_interceptions',\n",
    "    'clearances': 'clearances',\n",
    "    'errors': 'errors',\n",
    "}"
   ]
  },
  {
   "cell_type": "code",
   "execution_count": null,
   "id": "b6784378-152c-4d6b-8834-81367fe44411",
   "metadata": {},
   "outputs": [],
   "source": []
  }
 ],
 "metadata": {
  "kernelspec": {
   "display_name": "Python 3 (ipykernel)",
   "language": "python",
   "name": "python3"
  },
  "language_info": {
   "codemirror_mode": {
    "name": "ipython",
    "version": 3
   },
   "file_extension": ".py",
   "mimetype": "text/x-python",
   "name": "python",
   "nbconvert_exporter": "python",
   "pygments_lexer": "ipython3",
   "version": "3.11.13"
  }
 },
 "nbformat": 4,
 "nbformat_minor": 5
}
